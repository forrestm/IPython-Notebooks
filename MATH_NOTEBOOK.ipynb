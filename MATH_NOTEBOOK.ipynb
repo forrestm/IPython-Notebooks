{
 "cells": [
  {
   "cell_type": "code",
   "execution_count": 1,
   "metadata": {
    "collapsed": true
   },
   "outputs": [],
   "source": [
    "# Defaults division to float\n",
    "from __future__ import division\n",
    "from sympy import *\n",
    "from sympy.physics.vector import dynamicsymbols\n",
    "from sympy import diff, Symbol, cos, sin\n",
    "from sympy.abc import theta\n",
    "# Symbol Assignments\n",
    "y, z, t = symbols('y z t')\n",
    "k, m, n, m_1, m_2, L, g, theta, theta_dot, x_dot, c = symbols('k m n m_1 m_2 L g theta theta_dot x_dot c', integer=True)\n",
    "f, h = symbols('f h', cls=Function)\n",
    "# Pretty Printing\n",
    "init_printing()"
   ]
  },
  {
   "cell_type": "code",
   "execution_count": 4,
   "metadata": {
    "collapsed": false
   },
   "outputs": [
    {
     "data": {
      "image/png": "[encoded data removed]",
      "text/latex": [
       "$$0.5 m_{1} x_{dot}^{2} + 0.5 \\operatorname{m_{2}}{\\left (L^{2} m_{2} \\theta_{dot}^{2} + L^{2} \\theta_{dot}^{2} \\sin^{2}{\\left (\\theta \\right )} + \\left(L \\theta_{dot} \\cos{\\left (\\theta \\right )} + x_{dot}\\right)^{2} \\right )}$$"
      ],
      "text/plain": [
       "            2         ⎛ 2         2    2      2    2                          \n",
       "0.5⋅m₁⋅x_dot  + 0.5⋅m₂⎝L ⋅m₂⋅θ_dot  + L ⋅θ_dot ⋅sin (θ) + (L⋅θ_dot⋅cos(θ) + x_\n",
       "\n",
       "    2⎞\n",
       "dot) ⎠"
      ]
     },
     "execution_count": 4,
     "metadata": {},
     "output_type": "execute_result"
    }
   ],
   "source": [
    "T = 0.5 * m_1 * x_dot**2 + 0.5 * m_2((x_dot + L * theta_dot * cos(theta))**2 + (L * theta_dot * sin(theta))**2 + m_2 * L**2 * theta_dot**2)\n",
    "T"
   ]
  },
  {
   "cell_type": "code",
   "execution_count": 31,
   "metadata": {
    "collapsed": false
   },
   "outputs": [
    {
     "data": {
      "image/png": "[encoded data removed]",
      "text/latex": [
       "$$\\frac{- 0.5 b^{2} l m \\sin{\\left (a \\right )} - 0.125 g m \\sin{\\left (2 a \\right )} + 2 k x}{- M + 0.25 m \\cos^{2}{\\left (a \\right )} - m}$$"
      ],
      "text/plain": [
       "          2                                           \n",
       "- - -0.5⋅b ⋅l⋅m⋅sin(a) - - -0.125⋅g⋅m⋅sin(2⋅a) + 2⋅k⋅x\n",
       "──────────────────────────────────────────────────────\n",
       "                              2                       \n",
       "               -M + 0.25⋅m⋅cos (a) - m                "
      ]
     },
     "execution_count": 31,
     "metadata": {},
     "output_type": "execute_result"
    }
   ],
   "source": [
    "P = simplify(T)\n",
    "P"
   ]
  },
  {
   "cell_type": "code",
   "execution_count": 32,
   "metadata": {
    "collapsed": false
   },
   "outputs": [
    {
     "data": {
      "image/png": "[encoded data removed]",
      "text/latex": [
       "$$l^{2} m \\left(- 0.5 g l m \\sin{\\left (a \\right )} - \\frac{0.5 l m \\cos{\\left (a \\right )}}{- M + 0.25 m \\cos^{2}{\\left (a \\right )} - m} \\left(- 0.5 b^{2} l m \\sin{\\left (a \\right )} - 0.125 g m \\sin{\\left (2 a \\right )} + 2 k x\\right)\\right)$$"
      ],
      "text/plain": [
       "     ⎛                                  ⎛          2                          \n",
       " 2   ⎜                       - -0.5⋅l⋅m⋅⎝- - -0.5⋅b ⋅l⋅m⋅sin(a) - - -0.125⋅g⋅m\n",
       "l ⋅m⋅⎜-- -0.5⋅g⋅l⋅m⋅sin(a) - ─────────────────────────────────────────────────\n",
       "     ⎜                                                                2       \n",
       "     ⎝                                                 -M + 0.25⋅m⋅cos (a) - m\n",
       "\n",
       "                 ⎞        ⎞\n",
       "⋅sin(2⋅a) + 2⋅k⋅x⎠⋅cos(a) ⎟\n",
       "──────────────────────────⎟\n",
       "                          ⎟\n",
       "                          ⎠"
      ]
     },
     "execution_count": 32,
     "metadata": {},
     "output_type": "execute_result"
    }
   ],
   "source": [
    "J = (-0.5*m*l*P*cos(a) - 0.5*m*g*l*sin(a)) / (1/(m*l**2))\n",
    "J"
   ]
  },
  {
   "cell_type": "code",
   "execution_count": 33,
   "metadata": {
    "collapsed": false
   },
   "outputs": [
    {
     "data": {
      "image/png": "[encoded data removed]",
      "text/latex": [
       "$$\\frac{l^{3} m^{2}}{M - 0.25 m \\cos^{2}{\\left (a \\right )} + m} \\left(- 0.5 M g \\sin{\\left (a \\right )} - 0.125 b^{2} l m \\sin{\\left (2 a \\right )} - 0.5 g m \\sin{\\left (a \\right )} + 1.0 k x \\cos{\\left (a \\right )}\\right)$$"
      ],
      "text/plain": [
       " 3  2 ⎛                               2                                       \n",
       "l ⋅m ⋅⎝-- -0.5⋅M⋅g⋅sin(a) - - -0.125⋅b ⋅l⋅m⋅sin(2⋅a) - - -0.5⋅g⋅m⋅sin(a) + 1.0\n",
       "──────────────────────────────────────────────────────────────────────────────\n",
       "                                                 2                            \n",
       "                                M - - -0.25⋅m⋅cos (a) + m                     \n",
       "\n",
       "           ⎞\n",
       "⋅k⋅x⋅cos(a)⎠\n",
       "────────────\n",
       "            \n",
       "            "
      ]
     },
     "execution_count": 33,
     "metadata": {},
     "output_type": "execute_result"
    }
   ],
   "source": [
    "V = simplify(J)\n",
    "V"
   ]
  },
  {
   "cell_type": "code",
   "execution_count": null,
   "metadata": {
    "collapsed": true
   },
   "outputs": [],
   "source": []
  }
 ],
 "metadata": {
  "kernelspec": {
   "display_name": "Python 2",
   "language": "python",
   "name": "python2"
  },
  "language_info": {
   "codemirror_mode": {
    "name": "ipython",
    "version": 2
   },
   "file_extension": ".py",
   "mimetype": "text/x-python",
   "name": "python",
   "nbconvert_exporter": "python",
   "pygments_lexer": "ipython2",
   "version": "2.7.10"
  }
 },
 "nbformat": 4,
 "nbformat_minor": 0
}
