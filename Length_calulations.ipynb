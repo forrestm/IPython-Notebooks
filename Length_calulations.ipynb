{
 "cells": [
  {
   "cell_type": "code",
   "execution_count": 1,
   "metadata": {
    "collapsed": true
   },
   "outputs": [],
   "source": [
    "from sympy import *\n",
    "import sympy\n",
    "import sympy.physics.mechanics as me\n",
    "init_printing(use_latex='mathjax')"
   ]
  },
  {
   "cell_type": "code",
   "execution_count": 2,
   "metadata": {
    "collapsed": true
   },
   "outputs": [],
   "source": [
    "a,b,x,y,H, k1, k2, Length1, Length2, m, Fsp1,Fsp2,Ma,t1,t2 = sympy.symbols('a b x y H k1 k2 Length1 Length2 m Fsp1 Fsp2 Ma t1 t2')"
   ]
  },
  {
   "cell_type": "code",
   "execution_count": 3,
   "metadata": {
    "collapsed": false
   },
   "outputs": [],
   "source": [
    "# Calculating the geometric Lengths of the cables\n",
    "L1 = sympy.sqrt((x-(a/2))**2 + (y-(b/2))**2)\n",
    "L2 = sympy.sqrt((-(H-x)+(a/2))**2 + (y-(b/2))**2)\n",
    "# L2.subs({x:13,y:10,a:4,b:2, H:20})\n",
    "\n",
    "# Calculating the Spring Forces\n",
    "Fsp1 = k1*(L1 - Length1)\n",
    "Fsp2 = k2*(L2 - Length2)\n",
    "\n",
    "# Calculating the left and right spring force's x component\n",
    "leftx = (x-(a/2))\n",
    "rightx = (H - leftx - a) \n",
    "\n",
    "# Calculating the left and right spring force's y component\n",
    "y_same = y-(b/2)\n",
    "\n",
    "# Calculating the left and right x component of the spring force\n",
    "Fx1 = Fsp1 * (leftx / L1)\n",
    "Fx2 = Fsp2 * (rightx / L2)\n",
    "\n",
    "# Setting up the total x equation\n",
    "Fx = Fx1 - Fx2\n",
    "\n",
    "# Calculating the left and right y component of the spring force\n",
    "Fy1 = Fsp1 * (y_same / L1)\n",
    "Fy2 = Fsp2 * (y_same / L2)\n",
    "\n",
    "# Setting up the total x equation\n",
    "Fy = Fy1 + Fy2 - 9.81*m\n",
    "\n",
    "# tension1 = (t1 * (leftx / L1)) - (t2 *(rightx / L2))\n",
    "# tension2 = (t1 * (y_same / L1)) + (t2 * (y_same / L2)) -9.81*12"
   ]
  },
  {
   "cell_type": "code",
   "execution_count": 4,
   "metadata": {
    "collapsed": false
   },
   "outputs": [],
   "source": [
    "# Totalx = N(Fx.subs({x:13, y:10, a:4.0,b:2.0, H:20.0, k1:100.0, k2:100.0}))\n",
    "# Totaly = N(Fy.subs({x:13, y:10, a:4.0,b:2.0, H:20.0, k1:100.0, k2:100.0, m:12.0}))\n",
    "# solve([Eq(Totalx, 0.0), Eq(Totaly, 0.0)], [Length1, Length2])"
   ]
  },
  {
   "cell_type": "code",
   "execution_count": 5,
   "metadata": {
    "collapsed": false
   },
   "outputs": [],
   "source": [
    "# Totalx = N(tension1.subs({x:7, y:10, a:4.0,b:2.0, H:20.0, k1:100.0, k2:100.0}))\n",
    "# Totaly = N(tension2.subs({x:7, y:10, a:4.0,b:2.0, H:20.0, k1:100.0, k2:100.0, m:12.0}))\n",
    "# solve([Eq(Totalx, 0.0), Eq(Totaly, 0.0)], [t1, t2])"
   ]
  },
  {
   "cell_type": "code",
   "execution_count": 6,
   "metadata": {
    "collapsed": false
   },
   "outputs": [
    {
     "data": {
      "text/latex": [
       "$$10.295630140987$$"
      ],
      "text/plain": [
       "10.2956301409870"
      ]
     },
     "execution_count": 6,
     "metadata": {},
     "output_type": "execute_result"
    }
   ],
   "source": [
    "N(L2.subs({x:13,y:10,a:4,b:2,H:20}))"
   ]
  },
  {
   "cell_type": "code",
   "execution_count": 7,
   "metadata": {
    "collapsed": true
   },
   "outputs": [],
   "source": [
    "# Moment Analysis around COG\n",
    "# Mx = Fx1 * (b/2) - Fx2 * (b/2)\n",
    "# My = Fy2 * (a/2) - Fy1 * (a/2)\n",
    "# M = Mx + My"
   ]
  },
  {
   "cell_type": "code",
   "execution_count": 8,
   "metadata": {
    "collapsed": true
   },
   "outputs": [],
   "source": [
    "# Moment Analysis around each point\n",
    "M = Fy2 * a - 9.81*m*(a/2) + Ma\n",
    "Totalx = Fx1 - Fx2\n",
    "Totaly = Fy1 + Fy2 - 9.81*m"
   ]
  },
  {
   "cell_type": "code",
   "execution_count": 9,
   "metadata": {
    "collapsed": false
   },
   "outputs": [],
   "source": [
    "Totalx = N(Fx.subs({x:13, y:10, a:4.0,b:2.0, H:20.0, k1:100.0, k2:100.0}))\n",
    "Totaly = N(Fy.subs({x:13, y:10, a:4.0,b:2.0, H:20.0, k1:100.0, k2:100.0, m:12.0}))\n",
    "Moment = N(M.subs( {x:13, y:10, a:4.0,b:2.0, H:20.0, k1:100.0, k2:100.0, m:12.0}))"
   ]
  },
  {
   "cell_type": "code",
   "execution_count": 11,
   "metadata": {
    "collapsed": false
   },
   "outputs": [],
   "source": [
    "# solve([Eq(Totalx, 0.0), Eq(Totaly, 0.0), Eq(Moment, 0.0)], [Fsp1,Fsp2,Ma])"
   ]
  },
  {
   "cell_type": "code",
   "execution_count": 18,
   "metadata": {
    "collapsed": false
   },
   "outputs": [],
   "source": [
    "L1, L2, m = solve([Eq(Totalx, 0.0), Eq(Totaly, 0.0), Eq(Moment, 0.0)], [Length1, Length2, Ma])"
   ]
  },
  {
   "cell_type": "code",
   "execution_count": 25,
   "metadata": {
    "collapsed": false
   },
   "outputs": [],
   "source": [
    "a = solve([Eq(Totalx, 0.0), Eq(Totaly, 0.0), Eq(Moment, 0.0)], [Length1, Length2, Ma])"
   ]
  },
  {
   "cell_type": "code",
   "execution_count": 30,
   "metadata": {
    "collapsed": false
   },
   "outputs": [
    {
     "data": {
      "text/latex": [
       "$$-88.2900000000028$$"
      ],
      "text/plain": [
       "-88.2900000000028"
      ]
     },
     "execution_count": 30,
     "metadata": {},
     "output_type": "execute_result"
    }
   ],
   "source": [
    "a[Ma]"
   ]
  },
  {
   "cell_type": "code",
   "execution_count": null,
   "metadata": {
    "collapsed": false
   },
   "outputs": [],
   "source": [
    "# solve([Eq(Totalx, 0.0), Eq(Totaly, 0.0)], [Length1, Length2])"
   ]
  },
  {
   "cell_type": "code",
   "execution_count": null,
   "metadata": {
    "collapsed": false
   },
   "outputs": [],
   "source": [
    "# Totalx.subs({Length1:14.7936133062971, Length2:11.2214646814153})"
   ]
  },
  {
   "cell_type": "code",
   "execution_count": 59,
   "metadata": {
    "collapsed": false
   },
   "outputs": [],
   "source": [
    "import numpy as np\n",
    "from numpy import sqrt\n",
    "a=4\n",
    "b=2\n",
    "H=20\n",
    "x=13\n",
    "y=10\n",
    "m=12\n",
    "k1=100\n",
    "k2=100\n",
    "x1=(a*k1/(2*sqrt(a**2/4 - a*x + b**2/4 - b*y + x**2 + y**2))-k1*x/sqrt(a**2/4 - a*x + b**2/4 - b*y + x**2 + y**2))\n",
    "x2=-(a*k2/(2*sqrt(H**2 - H*a - 2*H*x + a**2/4 + a*x + b**2/4 - b*y + x**2 +\n",
    "    y**2)) - k2*x/sqrt(H**2 - H*a - 2*H*x + a**2/4 + a*x + b**2/4 - b*y +\n",
    "    x**2 + y**2) + H * k2/sqrt(H**2 - H*a - 2*H*x + a**2/4 + a*x + b**2/4 - b*y + x**2 +\n",
    "    y**2))\n",
    "x4= -a*k1/2 + a*k2/2 + k1*x + k2*x - H*k2\n",
    "\n",
    "y1=(b*k1/(2*sqrt(a**2/4 - a*x + b**2/4 - b*y + x**2 + y**2)) - k1*y/sqrt(a**2/4 - a*x + b**2/4 - b*y + x**2 + y**2))\n",
    "y2=(b*k2/(2*sqrt(H**2 - H*a - 2*H*x + a**2/4 + a*x + b**2/4 - b*y + x**2 +\n",
    "    y**2)) - k2*y/sqrt(H**2 - H*a - 2*H*x + a**2/4 + a*x + b**2/4 - b*y +\n",
    "    x**2 + y**2))\n",
    "y4= -b*k1/2 - b*k2/2 + k1*y + k2*y - 9.81*m\n",
    "\n",
    "m2=(a*b*k2/(2*sqrt(H**2 - H*a - 2*H*x + a**2/4 + a*x + b**2/4 - b*y + x**2 +\n",
    "    y**2)) - a*k2*y/sqrt(H**2 - H*a - 2*H*x + a**2/4 + a*x + b**2/4 - b*y +\n",
    "    x**2 + y**2))\n",
    "m3=1\n",
    "m4=-a*b*k2/2 + a*k2*y - 4.905*a*m\n",
    "\n",
    "a = np.array([[x1,x2,0], [y1,y2,0], [0,m2,1]])\n",
    "b = np.array([-x4,-y4,-m4])\n",
    "x = np.linalg.solve(a, b)"
   ]
  },
  {
   "cell_type": "code",
   "execution_count": 60,
   "metadata": {
    "collapsed": false
   },
   "outputs": [
    {
     "data": {
      "text/plain": [
       "array([   -76.91044462,     74.9583648 ,  22845.6       ])"
      ]
     },
     "execution_count": 60,
     "metadata": {},
     "output_type": "execute_result"
    }
   ],
   "source": [
    "x"
   ]
  },
  {
   "cell_type": "code",
   "execution_count": null,
   "metadata": {
    "collapsed": true
   },
   "outputs": [],
   "source": []
  }
 ],
 "metadata": {
  "kernelspec": {
   "display_name": "Python 3",
   "language": "python",
   "name": "python3"
  },
  "language_info": {
   "codemirror_mode": {
    "name": "ipython",
    "version": 3
   },
   "file_extension": ".py",
   "mimetype": "text/x-python",
   "name": "python",
   "nbconvert_exporter": "python",
   "pygments_lexer": "ipython3",
   "version": "3.5.1"
  }
 },
 "nbformat": 4,
 "nbformat_minor": 0
}
