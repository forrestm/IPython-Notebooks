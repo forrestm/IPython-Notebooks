{
 "cells": [
  {
   "cell_type": "code",
   "execution_count": 1,
   "metadata": {
    "collapsed": false,
    "scrolled": true
   },
   "outputs": [
    {
     "name": "stderr",
     "output_type": "stream",
     "text": [
      "//anaconda/envs/py2p7/lib/python2.7/site-packages/matplotlib/__init__.py:872: UserWarning: axes.color_cycle is deprecated and replaced with axes.prop_cycle; please use the latter.\n",
      "  warnings.warn(self.msg_depr % (key, alt_key))\n"
     ]
    }
   ],
   "source": [
    "from sympy import symbols, init_printing\n",
    "import sympy\n",
    "import sympy.physics.mechanics as me\n",
    "init_printing(use_latex='mathjax')\n",
    "import seaborn as sns\n",
    "# sns.set_context(\"notebook\", font_scale=1.5, rc={\"lines.linewidth\": 2.5})\n",
    "import matplotlib.pyplot as plt\n",
    "from scipy.integrate import ode, odeint\n",
    "from scipy.linalg import eigvals\n",
    "import numpy as np\n",
    "from numpy import sqrt\n",
    "%matplotlib inline\n",
    "import InputShaping as shaping\n",
    "from scipy import linalg"
   ]
  },
  {
   "cell_type": "code",
   "execution_count": 2,
   "metadata": {
    "collapsed": false,
    "scrolled": true
   },
   "outputs": [],
   "source": [
    "# Create the variables\n",
    "x, y, beta = me.dynamicsymbols('x, y, beta')\n",
    "\n",
    "# Create the velocities\n",
    "x_dot, y_dot, beta_dot = me.dynamicsymbols('x, y, beta', 1)\n",
    "\n",
    "# Create the constants\n",
    "m, k, L, g, H, c, D,t, Izz, k_beta, c_beta = sympy.symbols('m k L g H c D t Izz k_beta c_beta')\n",
    "L_1_init, L_2_init = sympy.symbols('L_1_init L_2_init')\n",
    "# m = mass\n",
    "# k = spring k\n",
    "# L = spring equilibrium length\n",
    "# g = gravity\n",
    "# c = spring c\n",
    "# c_beta = rotational c\n",
    "# k_beta = rotational k\n",
    "# D = rod length\n",
    "# Izz = moment of Inertia about the end of a rod"
   ]
  },
  {
   "cell_type": "code",
   "execution_count": 3,
   "metadata": {
    "collapsed": false,
    "scrolled": true
   },
   "outputs": [],
   "source": [
    "# Create the world frame\n",
    "N = me.ReferenceFrame('N')\n",
    "\n",
    "# Create the rod frame\n",
    "B = N.orientnew('B', 'axis', [beta, N.z])\n",
    "\n",
    "# Set the rotation of the rod frame\n",
    "B.set_ang_vel(N, beta_dot * N.z)\n",
    "\n",
    "# Create the Origin\n",
    "O1 = me.Point('O_1')\n",
    "\n",
    "# Set origin velocity to zero\n",
    "O1.set_vel(N, 0 * N.x)\n",
    "\n",
    "# Create the second attachment point\n",
    "O2 = O1.locatenew('O_2', H * N.x)\n",
    "O2.set_vel(N, 0 * N.x)\n",
    "\n",
    "# Locate the point in the N frame\n",
    "# P = me.Point('pen')\n",
    "P = O1.locatenew('P', x * N.x + y * N.y)\n",
    "\n",
    "# P.set_pos(O1, x * N.x + y * N.y)\n",
    "\n",
    "# Set the point's velocity\n",
    "P.set_vel(N, x_dot * N.x + y_dot * N.y)\n",
    "\n",
    "# Create the rod center of mass\n",
    "G = P.locatenew('G', D/2 * B.y)\n",
    "\n",
    "# Set the velocity of G\n",
    "G.v2pt_theory(P, N, B)\n",
    "\n",
    "# Create the rod\n",
    "I_rod = me.inertia(B, 0, 0, Izz)\n",
    "rod = me.RigidBody('rod', G, B, m, (I_rod, G))\n",
    "\n",
    "# Create the distance from the point to each attachment point\n",
    "L1 = O1.pos_from(P).magnitude\n",
    "L2 = O2.pos_from(P).magnitude\n",
    "L1_vector = O1.pos_from(P).normalize\n",
    "L2_vector = O2.pos_from(P).normalize\n",
    "\n",
    "# Create the height from the center of gravity to the datum\n",
    "h = G.pos_from(O1) & N.y\n",
    "\n",
    "# The forces at the connection point\n",
    "forceP = c * (x_dot + y_dot) * L1_vector() + c * (x_dot + y_dot) * L2_vector()\n",
    "\n",
    "# The forces on the beta frame\n",
    "forceB = -c_beta * beta_dot * N.z\n",
    "\n",
    "rod.potential_energy = (-m * g * h + 0.5 * k * (L1() - L_1_init)**2 + 0.5 * k *(L2() - \n",
    "                        L_2_init)**2 + 0.5 * k_beta * beta**2)\n",
    "\n",
    "Lag = me.Lagrangian(N, rod)"
   ]
  },
  {
   "cell_type": "code",
   "execution_count": 4,
   "metadata": {
    "collapsed": false,
    "scrolled": false
   },
   "outputs": [],
   "source": [
    "LM = me.LagrangesMethod(Lag, [x, y, beta], forcelist=[(P, forceP), (B, forceB)], frame=N)\n",
    "\n",
    "# No damping\n",
    "# LM = me.LagrangesMethod(Lag, [x, y, beta], frame=N)\n",
    "EqMotion = LM.form_lagranges_equations()\n",
    "lrhs = LM.rhs()"
   ]
  },
  {
   "cell_type": "code",
   "execution_count": 5,
   "metadata": {
    "collapsed": false
   },
   "outputs": [],
   "source": [
    "operating_point = {x:10, y:10, beta:0, x_dot:0, y_dot:0, beta_dot:0}\n",
    "\n",
    "A, B, inp_vec = LM.linearize([x,y,beta], [x_dot, y_dot, beta_dot],\n",
    "                             op_point=operating_point,\n",
    "                             A_and_B=True)"
   ]
  },
  {
   "cell_type": "code",
   "execution_count": null,
   "metadata": {
    "collapsed": false
   },
   "outputs": [],
   "source": []
  },
  {
   "cell_type": "code",
   "execution_count": 6,
   "metadata": {
    "collapsed": false
   },
   "outputs": [],
   "source": [
    "A_Sub = A.subs({k:1.0,m:1.0,g:9.8, L_1_init:14.8358073760749,L_2_init:14.8358073760749,H:20.0,c:1.0,c_beta:1.0,x_dot:0.0,\n",
    "        y_dot:0.0, beta_dot:0.0, D:1.0,Izz:0.33,k_beta:1.0})\n",
    "test = A_Sub.doit()"
   ]
  },
  {
   "cell_type": "code",
   "execution_count": 10,
   "metadata": {
    "collapsed": false
   },
   "outputs": [
    {
     "name": "stdout",
     "output_type": "stream",
     "text": [
      "Matrix([[0, 0, 0, 1, 0, 0], [0, 0, 0, 0, 1, 0], [0, 0, 0, 0, 0, 1], [-1.71447121212122 - 0.0439393939393939*sqrt(2)*(-14.8358073760749 + 10*sqrt(2)), 0.0439393939393939*sqrt(2)*(-14.8358073760749 + 10*sqrt(2)) + 0.0431045454545421, -8.93939393939394, -0.878787878787879*sqrt(2) + 1.2427937366309, -0.878787878787879*sqrt(2) + 1.2427937366309, -1.51515151515152], [0.025*sqrt(2)*(-14.8358073760749 + 10*sqrt(2)) + 0.0245249999999981, -0.975475000000002 - 0.025*sqrt(2)*(-14.8358073760749 + 10*sqrt(2)), 0, -0.5*sqrt(2) - 0.707106781186547, -0.5*sqrt(2) - 0.707106781186547, 0], [-1.47799242424243 - 0.0378787878787879*sqrt(2)*(-14.8358073760749 + 10*sqrt(2)), 0.0378787878787879*sqrt(2)*(-14.8358073760749 + 10*sqrt(2)) + 0.037159090909088, -17.8787878787879, -0.757575757575758*sqrt(2) + 1.07137391088871, -0.757575757575758*sqrt(2) + 1.07137391088871, -3.03030303030303]])\n"
     ]
    }
   ],
   "source": [
    "print(test)"
   ]
  },
  {
   "cell_type": "code",
   "execution_count": 7,
   "metadata": {
    "collapsed": false
   },
   "outputs": [],
   "source": [
    "eignenvalues = eigvals(test)\n",
    "eigen = np.sqrt(np.abs(np.unique(np.real(eignenvalues))))*(1.0/2*np.pi)\n",
    "eigen_index = np.argsort(eigen)\n",
    "high, medium, low = eigen[eigen_index]"
   ]
  },
  {
   "cell_type": "code",
   "execution_count": 8,
   "metadata": {
    "collapsed": false
   },
   "outputs": [
    {
     "name": "stdout",
     "output_type": "stream",
     "text": [
      "(0.089256331073574655, 1.3208770002955303, 1.931455363949018)\n"
     ]
    }
   ],
   "source": [
    "print(high,medium,low)"
   ]
  },
  {
   "cell_type": "code",
   "execution_count": null,
   "metadata": {
    "collapsed": true
   },
   "outputs": [],
   "source": []
  }
 ],
 "metadata": {
  "kernelspec": {
   "display_name": "Python 2",
   "language": "python",
   "name": "python2"
  },
  "language_info": {
   "codemirror_mode": {
    "name": "ipython",
    "version": 2
   },
   "file_extension": ".py",
   "mimetype": "text/x-python",
   "name": "python",
   "nbconvert_exporter": "python",
   "pygments_lexer": "ipython2",
   "version": "2.7.11"
  }
 },
 "nbformat": 4,
 "nbformat_minor": 0
}
