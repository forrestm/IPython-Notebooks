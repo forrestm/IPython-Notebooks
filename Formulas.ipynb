{
 "cells": [
  {
   "cell_type": "code",
   "execution_count": 7,
   "metadata": {
    "collapsed": false
   },
   "outputs": [],
   "source": [
    "from sympy import symbols, init_printing\n",
    "import sympy\n",
    "import sympy.physics.mechanics as me\n",
    "init_printing(use_latex='mathjax')\n",
    "import seaborn as sns\n",
    "# sns.set_context(\"notebook\", font_scale=1.5, rc={\"lines.linewidth\": 2.5})\n",
    "import matplotlib.pyplot as plt\n",
    "from scipy.integrate import ode, odeint\n",
    "import numpy as np\n",
    "# import InputShaping as shaping\n",
    "\n",
    "# Create the variables\n",
    "x, y, beta = me.dynamicsymbols('x, y, beta')\n",
    "\n",
    "# Create the velocities\n",
    "x_dot, y_dot, beta_dot = me.dynamicsymbols('x, y, beta', 1)\n",
    "\n",
    "# Create the constants\n",
    "m, k, L, g, H, c, D, t = sympy.symbols('m k L g H c D t')\n",
    "Izz, k_beta, c_beta = sympy.symbols('Izz k_beta c_beta')\n",
    "L_1_init, L_2_init = sympy.symbols('L_1_init L_2_init')\n",
    "'''\n",
    "m = mass\n",
    "k = spring k\n",
    "L = spring equilibrium length\n",
    "g = gravity\n",
    "c = spring c\n",
    "c_beta = rotational c\n",
    "k_beta = rotational k\n",
    "D = rod length\n",
    "Izz = moment of Inertia about the end of a rod\n",
    "'''\n",
    "\n",
    "####### Variables to Change ##############\n",
    "\n",
    "# Beginning Point\n",
    "X_begin = 14\n",
    "Y_begin = 11.5\n",
    "\n",
    "# Ending Point\n",
    "X_end = 10\n",
    "Y_end = 7.5\n",
    "\n",
    "# Time to get to Point\n",
    "Risetime = 3.0\n",
    "\n",
    "# Time to start Moving\n",
    "time_begin = 1.0\n",
    "\n",
    "# Mass\n",
    "mass = 1.0\n",
    "\n",
    "# K of Cables\n",
    "cable_K = 10.0\n",
    "\n",
    "# C of Cables\n",
    "cable_C = 1.0\n",
    "\n",
    "# K of Rod\n",
    "rod_K = 10.0\n",
    "\n",
    "# C of Rod\n",
    "rod_C = 1.0\n",
    "\n",
    "# Length of Rod\n",
    "rod_length = 3.0\n",
    "\n",
    "# Time to plot response\n",
    "endtime = 50.0\n",
    "#########################################\n",
    "\n",
    "inertia = rod_length**2 * (1.0/3.0) * mass\n",
    "\n",
    "def Lengths(x,y):\n",
    "    k=10\n",
    "    h=20\n",
    "    m=1.0\n",
    "    Fy = np.array([[k*y/np.sqrt(x**2 + y**2), k*y/np.sqrt(y**2 + (h - x)**2)],\n",
    "                   [k*x/np.sqrt(x**2 + y**2), -h*k/np.sqrt(y**2 + (h - x)**2\n",
    "                    )+k*x/np.sqrt(y**2 + (h - x)**2)]])\n",
    "    a = np.array([2*k*y - 9.81*m,-h*k + 2*k*x])\n",
    "    x = np.linalg.solve(Fy,a)\n",
    "    return x\n",
    "\n",
    "L1_begin, L2_begin = Lengths(X_begin, Y_begin)\n",
    "L1_end, L2_end = Lengths(X_end, Y_end)"
   ]
  },
  {
   "cell_type": "code",
   "execution_count": 8,
   "metadata": {
    "collapsed": false
   },
   "outputs": [],
   "source": [
    "# Create the world frame\n",
    "N = me.ReferenceFrame('N')\n",
    "\n",
    "# Create the rod frame\n",
    "B = N.orientnew('B', 'axis', [beta, N.z])\n",
    "\n",
    "# Set the rotation of the rod frame\n",
    "B.set_ang_vel(N, -beta_dot * N.z)\n",
    "\n",
    "# Create the Origin\n",
    "O1 = me.Point('O_1')\n",
    "\n",
    "# Set origin velocity to zero\n",
    "O1.set_vel(N, 0 * N.x)\n",
    "\n",
    "# Create the second attachment point\n",
    "# O2 = O1.locatenew('O_2', H * N.x)\n",
    "O2 = me.Point('O_2')\n",
    "O2.set_pos(O1, H * N.x)\n",
    "O2.set_vel(N, 0)\n",
    "\n",
    "# Locate the point in the N frame\n",
    "# P = me.Point('pen')\n",
    "# P = O1.locatenew('P', x * N.x + y * N.y)\n",
    "P = me.Point('P')\n",
    "P.set_pos(O1, x * N.x + y * N.y)\n",
    "P.set_pos(O2, -(H - x) * N.x + y * N.y)\n",
    "\n",
    "# P.set_pos(O1, x * N.x + y * N.y)\n",
    "\n",
    "# Set the point's velocity\n",
    "P.set_vel(N, x_dot * N.x + y_dot * N.y)\n",
    "\n",
    "# Create the rod center of mass\n",
    "G = P.locatenew('G', D/2 * B.y)\n",
    "\n",
    "# Set the velocity of G\n",
    "G.v2pt_theory(P, N, B)\n",
    "\n",
    "# Create the rod\n",
    "I_rod = me.inertia(B, 0, 0, Izz)\n",
    "rod = me.RigidBody('rod', G, B, m, (I_rod, G))\n",
    "\n",
    "# Create the distance from the point to each attachment point\n",
    "L1 = O1.pos_from(P).magnitude\n",
    "L2 = O2.pos_from(P).magnitude\n",
    "L1_vector = O1.pos_from(P).normalize\n",
    "L2_vector = O2.pos_from(P).normalize\n",
    "\n",
    "# Create the height from the center of gravity to the datum\n",
    "h = G.pos_from(O1) & N.y\n",
    "\n",
    "# The forces at the connection point\n",
    "forceP = c * (x_dot + y_dot) * L1_vector() + c * (-x_dot + y_dot) * L2_vector()\n",
    "\n",
    "# The forces on the beta frame\n",
    "forceB = c_beta * beta_dot * N.z\n",
    "\n",
    "rod.potential_energy = (-m * g * h + 0.5 * k * (L1() - L_1_init)**2 + 0.5 *\n",
    "                        k *(L2() - L_2_init)**2 + 0.5 * k_beta * beta**2)\n",
    "\n",
    "Lag = me.Lagrangian(N, rod)\n",
    "\n",
    "LM = me.LagrangesMethod(Lag, [x, y, beta], forcelist=[(P, forceP), (B, forceB)], frame=N)\n",
    "\n",
    "\n",
    "EqMotion = LM.form_lagranges_equations()"
   ]
  },
  {
   "cell_type": "code",
   "execution_count": 11,
   "metadata": {
    "collapsed": false
   },
   "outputs": [
    {
     "name": "stdout",
     "output_type": "stream",
     "text": [
      "\\frac{Izz \\beta_{dot}^{2}}{2} - 0.5 b^{2} k_{\\beta} + g m \\left(\\frac{D}{2} \\cos{\\left (b \\right )} + y\\right) - 0.5 k \\left(- L_{1 init} + \\sqrt{x^{2} + y^{2}}\\right)^{2} - 0.5 k \\left(- L_{2 init} + \\sqrt{y^{2} + \\left(H - x\\right)^{2}}\\right)^{2} + \\frac{m}{2} \\left(\\frac{D^{2} \\beta_{dot}^{2}}{4} + \\frac{D \\beta_{dot}}{2} x_{dot} \\cos{\\left (b \\right )} + \\frac{D \\beta_{dot}}{2} y_{dot} \\sin{\\left (b \\right )} + \\frac{D \\beta_{dot}}{2} \\left(x_{dot} \\cos{\\left (b \\right )} + y_{dot} \\sin{\\left (b \\right )}\\right) + x_{dot}^{2} + y_{dot}^{2}\\right)\n"
     ]
    }
   ],
   "source": [
    "print(sympy.latex(Lag.subs({x_dot:'x_dot', x:'x',y:'y',y_dot:'y_dot', beta:'b', beta_dot:'beta_dot'})))"
   ]
  },
  {
   "cell_type": "code",
   "execution_count": 10,
   "metadata": {
    "collapsed": false
   },
   "outputs": [
    {
     "data": {
      "text/latex": [
       "$$- g m \\left(\\frac{D}{2} \\cos{\\left (\\beta{\\left (t \\right )} \\right )} + y{\\left (t \\right )}\\right) + 0.5 k \\left(- L_{1 init} + \\sqrt{x^{2}{\\left (t \\right )} + y^{2}{\\left (t \\right )}}\\right)^{2} + 0.5 k \\left(- L_{2 init} + \\sqrt{\\left(H - x{\\left (t \\right )}\\right)^{2} + y^{2}{\\left (t \\right )}}\\right)^{2} + 0.5 k_{\\beta} \\beta^{2}{\\left (t \\right )}$$"
      ],
      "text/plain": [
       "                                                                  2           \n",
       "                                   ⎛              _______________⎞          ⎛ \n",
       "      ⎛D⋅cos(β(t))       ⎞         ⎜             ╱  2       2    ⎟          ⎜ \n",
       "- g⋅m⋅⎜─────────── + y(t)⎟ + 0.5⋅k⋅⎝-L₁ ᵢₙᵢₜ + ╲╱  x (t) + y (t) ⎠  + 0.5⋅k⋅⎝-\n",
       "      ⎝     2            ⎠                                                    \n",
       "\n",
       "                                   2               \n",
       "             _____________________⎞                \n",
       "            ╱           2    2    ⎟            2   \n",
       "L₂ ᵢₙᵢₜ + ╲╱  (H - x(t))  + y (t) ⎠  + 0.5⋅kᵦ⋅β (t)\n",
       "                                                   "
      ]
     },
     "execution_count": 10,
     "metadata": {},
     "output_type": "execute_result"
    }
   ],
   "source": [
    "rod.potential_energy"
   ]
  },
  {
   "cell_type": "code",
   "execution_count": 14,
   "metadata": {
    "collapsed": false
   },
   "outputs": [
    {
     "data": {
      "text/latex": [
       "$$(\\frac{c \\left(H - x\\right) \\left(- \\dot{x} + \\dot{y}\\right)}{\\sqrt{\\left(H - x\\right)^{2} + y^{2}}} - \\frac{c \\left(\\dot{x} + \\dot{y}\\right) x}{\\sqrt{x^{2} + y^{2}}})\\mathbf{\\hat{n}_x} + (- \\frac{c \\left(\\dot{x} + \\dot{y}\\right) y}{\\sqrt{x^{2} + y^{2}}} - \\frac{c \\left(- \\dot{x} + \\dot{y}\\right) y}{\\sqrt{\\left(H - x\\right)^{2} + y^{2}}})\\mathbf{\\hat{n}_y}$$"
      ],
      "text/plain": [
       "⎛             ⎛  d          d       ⎞     ⎛d          d       ⎞     ⎞\n",
       "⎜c⋅(H - x(t))⋅⎜- ──(x(t)) + ──(y(t))⎟   c⋅⎜──(x(t)) + ──(y(t))⎟⋅x(t)⎟\n",
       "⎜             ⎝  dt         dt      ⎠     ⎝dt         dt      ⎠     ⎟\n",
       "⎜──────────────────────────────────── - ────────────────────────────⎟\n",
       "⎜         _____________________                 _______________     ⎟\n",
       "⎜        ╱           2    2                    ╱  2       2         ⎟\n",
       "⎝      ╲╱  (H - x(t))  + y (t)               ╲╱  x (t) + y (t)      ⎠ n_x + ⎛    ⎛d          d       ⎞          ⎛  d          d       ⎞     ⎞\n",
       "⎜  c⋅⎜──(x(t)) + ──(y(t))⎟⋅y(t)   c⋅⎜- ──(x(t)) + ──(y(t))⎟⋅y(t)⎟\n",
       "⎜    ⎝dt         dt      ⎠          ⎝  dt         dt      ⎠     ⎟\n",
       "⎜- ──────────────────────────── - ──────────────────────────────⎟\n",
       "⎜          _______________              _____________________   ⎟\n",
       "⎜         ╱  2       2                 ╱           2    2       ⎟\n",
       "⎝       ╲╱  x (t) + y (t)            ╲╱  (H - x(t))  + y (t)    ⎠ n_y"
      ]
     },
     "execution_count": 14,
     "metadata": {},
     "output_type": "execute_result"
    }
   ],
   "source": [
    "forceP"
   ]
  },
  {
   "cell_type": "code",
   "execution_count": null,
   "metadata": {
    "collapsed": true
   },
   "outputs": [],
   "source": []
  }
 ],
 "metadata": {
  "kernelspec": {
   "display_name": "Python 3",
   "language": "python",
   "name": "python3"
  },
  "language_info": {
   "codemirror_mode": {
    "name": "ipython",
    "version": 3
   },
   "file_extension": ".py",
   "mimetype": "text/x-python",
   "name": "python",
   "nbconvert_exporter": "python",
   "pygments_lexer": "ipython3",
   "version": "3.5.1"
  }
 },
 "nbformat": 4,
 "nbformat_minor": 0
}
