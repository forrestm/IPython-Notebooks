{
 "cells": [
  {
   "cell_type": "code",
   "execution_count": 2,
   "metadata": {
    "collapsed": false
   },
   "outputs": [],
   "source": [
    "from sympy import symbols, init_printing\n",
    "import sympy\n",
    "import sympy.physics.mechanics as me\n",
    "init_printing(use_latex='mathjax')\n",
    "import seaborn as sns\n",
    "# sns.set_context(\"notebook\", font_scale=1.5, rc={\"lines.linewidth\": 2.5})\n",
    "import matplotlib.pyplot as plt\n",
    "from scipy.integrate import ode, odeint\n",
    "import numpy as np\n",
    "%matplotlib inline\n",
    "import InputShaping as shaping"
   ]
  },
  {
   "cell_type": "code",
   "execution_count": 3,
   "metadata": {
    "collapsed": true
   },
   "outputs": [],
   "source": [
    "# Create the variables\n",
    "x, y, beta = me.dynamicsymbols('x, y, beta')\n",
    "\n",
    "# Create the velocities\n",
    "x_dot, y_dot, beta_dot = me.dynamicsymbols('x, y, beta', 1)\n",
    "\n",
    "# Create the constants\n",
    "m, k, L, g, H, c, D,t, Izz, k_beta, c_beta = sympy.symbols('m k L g H c D t Izz k_beta c_beta')\n",
    "L_1_init, L_2_init, Le1, Le2 = sympy.symbols('L_1_init L_2_init Le1 Le2')\n",
    "# m = mass\n",
    "# k = spring k\n",
    "# L = spring equilibrium length\n",
    "# g = gravity\n",
    "# c = spring c\n",
    "# c_beta = rotational c\n",
    "# k_beta = rotational k\n",
    "# D = rod length\n",
    "# Izz = moment of Inertia about the end of a rod"
   ]
  },
  {
   "cell_type": "code",
   "execution_count": 48,
   "metadata": {
    "collapsed": false
   },
   "outputs": [],
   "source": [
    "# Create the world frame\n",
    "N = me.ReferenceFrame('N')\n",
    "\n",
    "# Create the rod frame\n",
    "B = N.orientnew('B', 'axis', [beta, N.z])\n",
    "\n",
    "# Set the rotation of the rod frame\n",
    "B.set_ang_vel(N, beta_dot * N.z)\n",
    "\n",
    "# Create the Origin\n",
    "O1 = me.Point('O_1')\n",
    "\n",
    "# Set origin velocity to zero\n",
    "O1.set_vel(N, 0 * N.x)\n",
    "\n",
    "# Create the second attachment point\n",
    "O2 = O1.locatenew('O_2', H * N.x)\n",
    "O2.set_vel(N, 0 * N.x)\n",
    "\n",
    "# Locate the point in the N frame\n",
    "# P = me.Point('pen')\n",
    "P = O1.locatenew('P', x * N.x + y * N.y)\n",
    "\n",
    "# P.set_pos(O1, x * N.x + y * N.y)\n",
    "\n",
    "# Set the point's velocity\n",
    "P.set_vel(N, x_dot * N.x + y_dot * N.y)\n",
    "\n",
    "# Create the rod center of mass\n",
    "G = P.locatenew('G', D/2 * B.y)\n",
    "\n",
    "# Set the velocity of G\n",
    "G.v2pt_theory(P, N, B)\n",
    "\n",
    "# Create the rod\n",
    "I_rod = me.inertia(B, 0, 0, Izz)\n",
    "rod = me.RigidBody('rod', G, B, m, (I_rod, G))\n",
    "\n",
    "# Create the distance from the point to each attachment point\n",
    "L1 = O1.pos_from(P).magnitude\n",
    "L2 = O2.pos_from(P).magnitude\n",
    "L1_vector = O1.pos_from(P).normalize\n",
    "L2_vector = O2.pos_from(P).normalize\n",
    "\n",
    "F1 = (-Le1 + L1()) * k * L1_vector()\n",
    "F2 = (-Le2 + L2()) * k * L2_vector()\n",
    "\n",
    "# Create the height from the center of gravity to the datum\n",
    "h = G.pos_from(O1) & N.y"
   ]
  },
  {
   "cell_type": "code",
   "execution_count": 55,
   "metadata": {
    "collapsed": false
   },
   "outputs": [],
   "source": [
    "def True_length(x,y):\n",
    "    H = 20.0\n",
    "    g = 9.81\n",
    "    k = 10.0\n",
    "    m = 1.0\n",
    "#     y = y - 1.81446563 - 0.3333\n",
    "    \n",
    "    Fx = (-k*(-Le1 + np.sqrt(x**2 + y**2))*x/np.sqrt(x**2 + y**2) + \n",
    "         k*(H - x)*(-Le2 + np.sqrt((H - x)**2 + y**2))/np.sqrt((H - x)**2 + y**2))\n",
    "    \n",
    "    Fy = (-k*(-Le1 + np.sqrt(x**2 + y**2))*y/np.sqrt(x**2 + y**2) + \n",
    "          -k*(-Le2 + np.sqrt((H - x)**2 + y**2))*y/np.sqrt((H - x)**2 + y**2)) + m*g\n",
    "    \n",
    "    solution = sympy.solvers.solve([Fx,Fy])\n",
    "    L1 = solution[Le1] \n",
    "    L2 = solution[Le2] \n",
    "    return L1,L2"
   ]
  },
  {
   "cell_type": "code",
   "execution_count": null,
   "metadata": {
    "collapsed": true
   },
   "outputs": [],
   "source": []
  },
  {
   "cell_type": "code",
   "execution_count": 58,
   "metadata": {
    "collapsed": false
   },
   "outputs": [
    {
     "name": "stdout",
     "output_type": "stream",
     "text": [
      "Length 1 is: 18.6248869163493\n",
      "\n",
      "Length 2 is: 19.7226519534319\n",
      "\n"
     ]
    }
   ],
   "source": [
    "L1, L2 = True_length(9,17)\n",
    "print(\"Length 1 is: {}\\n\".format(L1))\n",
    "print(\"Length 2 is: {}\\n\".format(L2))"
   ]
  },
  {
   "cell_type": "code",
   "execution_count": 51,
   "metadata": {
    "collapsed": false
   },
   "outputs": [
    {
     "name": "stdout",
     "output_type": "stream",
     "text": [
      "10*sqrt(2)\n",
      "10*sqrt(2)\n"
     ]
    }
   ],
   "source": [
    "print(L1().subs({x:10,y:10,H:20}))\n",
    "print(L2().subs({x:10,y:10,H:20}))"
   ]
  },
  {
   "cell_type": "code",
   "execution_count": 52,
   "metadata": {
    "collapsed": false
   },
   "outputs": [
    {
     "name": "stdout",
     "output_type": "stream",
     "text": [
      "- k*(-Le1 + sqrt(x**2 + y**2))*x/sqrt(x**2 + y**2)*N.x - k*(-Le1 + sqrt(x**2 + y**2))*y/sqrt(x**2 + y**2)*N.y\n",
      "k*(H - x)*(-Le2 + sqrt((H - x)**2 + y**2))/sqrt((H - x)**2 + y**2)*N.x - k*(-Le2 + sqrt((H - x)**2 + y**2))*y/sqrt((H - x)**2 + y**2)*N.y\n"
     ]
    }
   ],
   "source": [
    "print(F1)\n",
    "print(F2)"
   ]
  },
  {
   "cell_type": "code",
   "execution_count": 9,
   "metadata": {
    "collapsed": false
   },
   "outputs": [],
   "source": [
    "# sympy.physics.vector.dot()\n",
    "Fx1 = F1.subs({x:15,y:10,H:20, k:10}) & N.x"
   ]
  },
  {
   "cell_type": "code",
   "execution_count": 10,
   "metadata": {
    "collapsed": false
   },
   "outputs": [],
   "source": [
    "Fx2 = F2.subs({x:15,y:10,H:20, k:10}) & N.x"
   ]
  },
  {
   "cell_type": "code",
   "execution_count": 11,
   "metadata": {
    "collapsed": false
   },
   "outputs": [],
   "source": [
    "Fy1 = F1.subs({x:15,y:10,H:20, k:10}) & N.y"
   ]
  },
  {
   "cell_type": "code",
   "execution_count": 12,
   "metadata": {
    "collapsed": false
   },
   "outputs": [],
   "source": [
    "Fy2 = F2.subs({x:15,y:10,H:20, k:10}) & N.y"
   ]
  },
  {
   "cell_type": "code",
   "execution_count": 13,
   "metadata": {
    "collapsed": false
   },
   "outputs": [],
   "source": [
    "Fx = Fx1 + Fx2\n",
    "Fys = Fy1 + Fy2 + m*g\n",
    "Fy = Fys.subs({m:10.0, g:9.81})"
   ]
  },
  {
   "cell_type": "code",
   "execution_count": 14,
   "metadata": {
    "collapsed": false
   },
   "outputs": [
    {
     "data": {
      "text/latex": [
       "$$- \\frac{30 \\sqrt{13}}{13} \\left(Le_{1} - 5 \\sqrt{13}\\right) + 2 \\sqrt{5} \\left(Le_{2} - 5 \\sqrt{5}\\right)$$"
      ],
      "text/plain": [
       "  30⋅√13⋅(Le₁ - 5⋅√13)                    \n",
       "- ──────────────────── + 2⋅√5⋅(Le₂ - 5⋅√5)\n",
       "           13                             "
      ]
     },
     "execution_count": 14,
     "metadata": {},
     "output_type": "execute_result"
    }
   ],
   "source": [
    "Fx"
   ]
  },
  {
   "cell_type": "code",
   "execution_count": 15,
   "metadata": {
    "collapsed": false
   },
   "outputs": [
    {
     "data": {
      "text/latex": [
       "$$- \\frac{20 \\sqrt{13}}{13} \\left(Le_{1} - 5 \\sqrt{13}\\right) - 4 \\sqrt{5} \\left(Le_{2} - 5 \\sqrt{5}\\right) + 98.1$$"
      ],
      "text/plain": [
       "  20⋅√13⋅(Le₁ - 5⋅√13)                           \n",
       "- ──────────────────── - 4⋅√5⋅(Le₂ - 5⋅√5) + 98.1\n",
       "           13                                    "
      ]
     },
     "execution_count": 15,
     "metadata": {},
     "output_type": "execute_result"
    }
   ],
   "source": [
    "Fy"
   ]
  },
  {
   "cell_type": "code",
   "execution_count": 16,
   "metadata": {
    "collapsed": false
   },
   "outputs": [
    {
     "data": {
      "text/latex": [
       "$$\\left \\{ Le_{1} : 22.4490636288577, \\quad Le_{2} : 19.4062749597263\\right \\}$$"
      ],
      "text/plain": [
       "{Le₁: 22.4490636288577, Le₂: 19.4062749597263}"
      ]
     },
     "execution_count": 16,
     "metadata": {},
     "output_type": "execute_result"
    }
   ],
   "source": [
    "sympy.solvers.solve([Fx,Fy])"
   ]
  },
  {
   "cell_type": "code",
   "execution_count": 101,
   "metadata": {
    "collapsed": false
   },
   "outputs": [
    {
     "data": {
      "text/latex": [
       "$$14.1883804072206$$"
      ],
      "text/plain": [
       "14.1883804072206"
      ]
     },
     "execution_count": 101,
     "metadata": {},
     "output_type": "execute_result"
    }
   ],
   "source": [
    "ass[Le1]"
   ]
  },
  {
   "cell_type": "code",
   "execution_count": null,
   "metadata": {
    "collapsed": true
   },
   "outputs": [],
   "source": []
  }
 ],
 "metadata": {
  "kernelspec": {
   "display_name": "Python 2",
   "language": "python",
   "name": "python2"
  },
  "language_info": {
   "codemirror_mode": {
    "name": "ipython",
    "version": 2
   },
   "file_extension": ".py",
   "mimetype": "text/x-python",
   "name": "python",
   "nbconvert_exporter": "python",
   "pygments_lexer": "ipython2",
   "version": "2.7.11"
  }
 },
 "nbformat": 4,
 "nbformat_minor": 0
}
