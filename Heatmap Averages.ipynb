{
 "cells": [
  {
   "cell_type": "code",
   "execution_count": 1,
   "metadata": {
    "collapsed": false
   },
   "outputs": [
    {
     "name": "stderr",
     "output_type": "stream",
     "text": [
      "//anaconda/lib/python3.5/site-packages/pandas/computation/__init__.py:19: UserWarning: The installed version of numexpr 2.4.4 is not supported in pandas and will be not be used\n",
      "\n",
      "  UserWarning)\n"
     ]
    }
   ],
   "source": [
    "import numpy as np\n",
    "import pandas as pd\n",
    "from matplotlib import pyplot as plt\n",
    "import seaborn as sns\n",
    "%matplotlib inline"
   ]
  },
  {
   "cell_type": "code",
   "execution_count": 2,
   "metadata": {
    "collapsed": false
   },
   "outputs": [],
   "source": [
    "resp = np.genfromtxt('XY_L1L2_natflmh_damplmh.csv', delimiter=',')"
   ]
  },
  {
   "cell_type": "code",
   "execution_count": 43,
   "metadata": {
    "collapsed": false
   },
   "outputs": [],
   "source": [
    "'''\n",
    "This code takes upper and lower bounds and pulls them out out the\n",
    "larger CSV so you can take the averages for a better estimate.\n",
    "'''\n",
    "upper_limit_x = 14\n",
    "lower_limit_x = 6\n",
    "\n",
    "upper_limit_y = 11.5\n",
    "lower_limit_y = 3.5\n",
    "\n",
    "X = resp[:,0]\n",
    "Y = resp[:,1]\n",
    "L1 = resp[:,2]\n",
    "L2 = resp[:,3]\n",
    "nl = resp[:,4]\n",
    "nm = resp[:,5]\n",
    "nh = resp[:,6]\n",
    "dl = resp[:,7]\n",
    "dm = resp[:,8]\n",
    "dh = resp[:,9]\n",
    "\n",
    "itemindex = np.where(X >= lower_limit_x)\n",
    "X_below = X[itemindex]\n",
    "Y_below = Y[itemindex]\n",
    "L1_below = L1[itemindex]\n",
    "L2_below = L2[itemindex]\n",
    "nl_below = nl[itemindex]\n",
    "nm_below = nm[itemindex]\n",
    "nh_below = nh[itemindex]\n",
    "dl_below = dl[itemindex]\n",
    "dm_below = dm[itemindex]\n",
    "dh_below = dh[itemindex]\n",
    "\n",
    "itemindex2 = np.where(X_below <= upper_limit_x)\n",
    "X_range = X_below[itemindex2]\n",
    "Y_range = Y_below[itemindex2]\n",
    "L1_range = L1[itemindex2]\n",
    "L2_range = L2[itemindex2]\n",
    "nl_range = nl[itemindex2]\n",
    "nm_range = nm[itemindex2]\n",
    "nh_range = nh[itemindex2]\n",
    "dl_range = dl[itemindex2]\n",
    "dm_range = dm[itemindex2]\n",
    "dh_range = dh[itemindex2]\n",
    "\n",
    "itemindex = np.where(Y_range >= lower_limit_y)\n",
    "X_below2 = X_range[itemindex]\n",
    "Y_below2 = Y_range[itemindex]\n",
    "L1_below2 = L1_range[itemindex]\n",
    "L2_below2 = L2_range[itemindex]\n",
    "nl_below2 = nl_range[itemindex]\n",
    "nm_below2 = nm_range[itemindex]\n",
    "nh_below2 = nh_range[itemindex]\n",
    "dl_below2 = dl_range[itemindex]\n",
    "dm_below2 = dm_range[itemindex]\n",
    "dh_below2 = dh_range[itemindex]\n",
    "\n",
    "itemindex2 = np.where(Y_below2 <= upper_limit_y)\n",
    "X_final = X_below2[itemindex2]\n",
    "Y_final = Y_below2[itemindex2]\n",
    "L1_final = L1_below2[itemindex2]\n",
    "L2_final = L2_below2[itemindex2]\n",
    "nl_final = nl_below2[itemindex2]\n",
    "nm_final = nm_below2[itemindex2]\n",
    "nh_final = nh_below2[itemindex2]\n",
    "dl_final = dl_below2[itemindex2]\n",
    "dm_final = dm_below2[itemindex2]\n",
    "dh_final = dh_below2[itemindex2]\n",
    "\n",
    "limited_resp = np.column_stack((X_final,Y_final, L1_final, L2_final, nl_final, nm_final, nh_final, dl_final, dm_final,\n",
    "                               dh_final))"
   ]
  },
  {
   "cell_type": "code",
   "execution_count": 57,
   "metadata": {
    "collapsed": false
   },
   "outputs": [
    {
     "data": {
      "text/plain": [
       "3.141592653589793"
      ]
     },
     "execution_count": 57,
     "metadata": {},
     "output_type": "execute_result"
    }
   ],
   "source": [
    "# print(np.average(limited_resp[:,4]))\n",
    "# print(np.average(limited_resp[:,7]))\n",
    "# print(np.average(limited_resp[:,5]))\n",
    "# print(np.average(limited_resp[:,8]))\n",
    "# get a min and a max also to show what robutness we need for what shaper we need to use\n",
    "# Get the residul vibraiton stuff for monday then well see about the paper\n",
    "np.pi"
   ]
  },
  {
   "cell_type": "code",
   "execution_count": 4,
   "metadata": {
    "collapsed": false
   },
   "outputs": [
    {
     "data": {
      "text/plain": [
       "<matplotlib.axes._subplots.AxesSubplot at 0x110324080>"
      ]
     },
     "execution_count": 4,
     "metadata": {},
     "output_type": "execute_result"
    },
    {
     "data": {
      "image/png": "[encoded data removed]",
      "text/plain": [
       "<matplotlib.figure.Figure at 0x110310320>"
      ]
     },
     "metadata": {},
     "output_type": "display_data"
    }
   ],
   "source": [
    "plt.figure(0)\n",
    "hea = np.column_stack((resp[:,0],resp[:,1]\n",
    "                      ,resp[:,4]))\n",
    "df4 = pd.DataFrame(hea, columns=['X (meters)','Y (meters)','EL'])\n",
    "Heats5 = df4.pivot(\"Y (meters)\", \"X (meters)\", \"EL\")\n",
    "sns.heatmap(Heats5, xticklabels=False, yticklabels=False, annot=False, fmt=\"d\",\n",
    "            linewidths=0, cmap=\"inferno\")"
   ]
  },
  {
   "cell_type": "code",
   "execution_count": null,
   "metadata": {
    "collapsed": false
   },
   "outputs": [],
   "source": [
    "import matplotlib.pyplot as plt\n",
    "from matplotlib.patches import Rectangle\n",
    "\n",
    "class Annotate(object):\n",
    "    def __init__(self):\n",
    "        self.ax = plt.gca()\n",
    "        self.rect = Rectangle((0,0), 1, 1)\n",
    "        self.x0 = None\n",
    "        self.y0 = None\n",
    "        self.x1 = None\n",
    "        self.y1 = None\n",
    "        self.ax.add_patch(self.rect)\n",
    "        self.ax.figure.canvas.mpl_connect('button_press_event', self.on_press)\n",
    "        self.ax.figure.canvas.mpl_connect('button_release_event', self.on_release)\n",
    "\n",
    "    def on_press(self, event):\n",
    "        print('press')\n",
    "        self.x0 = event.xdata\n",
    "        self.y0 = event.ydata\n",
    "\n",
    "    def on_release(self, event):\n",
    "        print('release')\n",
    "        self.x1 = event.xdata\n",
    "        self.y1 = event.ydata\n",
    "        self.rect.set_width(self.x1 - self.x0)\n",
    "        self.rect.set_height(self.y1 - self.y0)\n",
    "        self.rect.set_xy((self.x0, self.y0))\n",
    "        self.ax.figure.canvas.draw()\n",
    "\n",
    "a = Annotate()\n",
    "plt.show()"
   ]
  },
  {
   "cell_type": "code",
   "execution_count": null,
   "metadata": {
    "collapsed": true
   },
   "outputs": [],
   "source": []
  }
 ],
 "metadata": {
  "kernelspec": {
   "display_name": "Python 3",
   "language": "python",
   "name": "python3"
  },
  "language_info": {
   "codemirror_mode": {
    "name": "ipython",
    "version": 3
   },
   "file_extension": ".py",
   "mimetype": "text/x-python",
   "name": "python",
   "nbconvert_exporter": "python",
   "pygments_lexer": "ipython3",
   "version": "3.5.1"
  }
 },
 "nbformat": 4,
 "nbformat_minor": 0
}
